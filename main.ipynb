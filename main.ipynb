{
 "cells": [
  {
   "cell_type": "markdown",
   "metadata": {},
   "source": [
    "Below we have selected all the packages we will need for this assignment."
   ]
  },
  {
   "cell_type": "code",
   "execution_count": 9,
   "metadata": {},
   "outputs": [],
   "source": [
    "import numpy as np\n",
    "import matplotlib.pyplot as plt\n",
    "import datetime as dt\n",
    "import matplotlib.ticker as mtick\n",
    "import os"
   ]
  },
  {
   "cell_type": "markdown",
   "metadata": {},
   "source": [
    "Here, I am setting the variables to equal what was specified in our assignment"
   ]
  },
  {
   "cell_type": "code",
   "execution_count": 10,
   "metadata": {},
   "outputs": [],
   "source": [
    "current_rate = 0.05  # Current Interest Rate of 5%\n",
    "mean_rate = 0  # Mean Rate\n",
    "standard_deviation_cd = 0.00625  # Standard Deviation\n",
    "total_days = 90  # total # of days in our analysis\n",
    "total_simulation = 10  # Number of simulations we will run"
   ]
  },
  {
   "cell_type": "markdown",
   "metadata": {},
   "source": [
    "Now, I'm beginning to strucuture an object for our x axis, representing each day over 90 days"
   ]
  },
  {
   "cell_type": "code",
   "execution_count": 11,
   "metadata": {},
   "outputs": [],
   "source": [
    "total_days_90 = np.arange(1, total_days)"
   ]
  },
  {
   "cell_type": "markdown",
   "metadata": {},
   "source": [
    "Here i'm making a blank object representing 90 0-values that will be used some for later code"
   ]
  },
  {
   "cell_type": "code",
   "execution_count": 12,
   "metadata": {},
   "outputs": [],
   "source": [
    "rate_simulation = np.zeros((total_simulation, total_days))"
   ]
  },
  {
   "cell_type": "markdown",
   "metadata": {},
   "source": [
    "Here i'm adding a for loop that does the following, \n",
    "for wach simulation\n",
    "1) we generate numbers in a normal distribution such that our mean is our mean rate, our standard deviation is what we specified initially, and we do so 90 times, one for each day\n",
    "2)  We start determing our rate lane which takes our initial rate of 5%, and multiplies it by the exponent of sums of all those rates previously generated for each day\n",
    "3) Lastly, we attribute each 90 day simulation to one of our 10 lines"
   ]
  },
  {
   "cell_type": "code",
   "execution_count": 13,
   "metadata": {},
   "outputs": [],
   "source": [
    "for i in range(total_simulation):\n",
    "    daily_variability = np.random.normal(mean_rate, standard_deviation_cd, total_days)\n",
    "    rate_line = current_rate * np.exp(np.cumsum(daily_variability))\n",
    "    rate_simulation[i] = rate_line"
   ]
  },
  {
   "cell_type": "markdown",
   "metadata": {},
   "source": [
    "Now I'm defining what today is and the x axis for the next 90 days"
   ]
  },
  {
   "cell_type": "code",
   "execution_count": 14,
   "metadata": {},
   "outputs": [],
   "source": [
    "today = dt.date.today()\n",
    "dates_on_xaxis = [today + dt.timedelta(days=i) for i in range(total_days)]"
   ]
  },
  {
   "cell_type": "markdown",
   "metadata": {},
   "source": [
    "Lastly, here's the code to plot everything generated above into a matplotlib chart"
   ]
  },
  {
   "cell_type": "code",
   "execution_count": 15,
   "metadata": {},
   "outputs": [],
   "source": [
    "def plot_interest_rate_variability(dates_on_xaxis, rate_simulation, total_simulation):\n",
    "    # Specify the save directory\n",
    "    save_dir = r\"C:\\Users\\chris\\Downloads\\IDS789\\Interest_Rate_Simulation\"\n",
    "\n",
    "    plt.figure(figsize=(15, 9))\n",
    "\n",
    "    # Plot each simulation\n",
    "    for i in range(total_simulation):\n",
    "        plt.plot(dates_on_xaxis, rate_simulation[i], label=f\"Simulation {i + 1}\")\n",
    "\n",
    "    # Set labels and title\n",
    "    plt.xlabel(\"Dates in the next 3 months\")\n",
    "    plt.ylabel(\"Interest Rate (%)\")\n",
    "    plt.title(\"CD Interest Rate Variability - 90 Days\")\n",
    "\n",
    "    # Rotate x-axis labels\n",
    "    plt.xticks(rotation=45)\n",
    "\n",
    "    # Format y-axis as percentage\n",
    "    plt.gca().yaxis.set_major_formatter(mtick.PercentFormatter(1.0))\n",
    "\n",
    "    # Add legend\n",
    "    plt.legend(title=\"Simulation Paths\", loc=\"best\")\n",
    "\n",
    "    # Adjust layout\n",
    "    plt.tight_layout()\n",
    "\n",
    "    # Ensure the directory exists, and save the plot\n",
    "    if not os.path.exists(save_dir):\n",
    "        os.makedirs(save_dir)\n",
    "\n",
    "    # Save the plot to the specified directory\n",
    "    plot_path = os.path.join(save_dir, \"cd_interest_rate_variability.png\")\n",
    "    plt.savefig(plot_path)\n",
    "\n",
    "    # Show the plot (optional)\n",
    "    plt.show()\n",
    "\n",
    "    print(f\"Plot saved to: {plot_path}\")\n",
    "\n",
    "\n",
    "# Example usage\n",
    "# plot_interest_rate_variability(dates_on_xaxis, rate_simulation, total_simulation, 'your/save/directory')"
   ]
  }
 ],
 "metadata": {
  "kernelspec": {
   "display_name": "base",
   "language": "python",
   "name": "python3"
  },
  "language_info": {
   "codemirror_mode": {
    "name": "ipython",
    "version": 3
   },
   "file_extension": ".py",
   "mimetype": "text/x-python",
   "name": "python",
   "nbconvert_exporter": "python",
   "pygments_lexer": "ipython3",
   "version": "3.12.5"
  }
 },
 "nbformat": 4,
 "nbformat_minor": 2
}
